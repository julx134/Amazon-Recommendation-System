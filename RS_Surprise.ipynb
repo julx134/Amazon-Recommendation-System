{
  "nbformat": 4,
  "nbformat_minor": 0,
  "metadata": {
    "colab": {
      "provenance": [],
      "include_colab_link": true
    },
    "kernelspec": {
      "name": "python3",
      "display_name": "Python 3"
    },
    "language_info": {
      "name": "python"
    }
  },
  "cells": [
    {
      "cell_type": "markdown",
      "metadata": {
        "id": "view-in-github",
        "colab_type": "text"
      },
      "source": [
        "<a href=\"https://colab.research.google.com/github/julx134/Amazon-Recommendation-System/blob/main/RS_Surprise.ipynb\" target=\"_parent\"><img src=\"https://colab.research.google.com/assets/colab-badge.svg\" alt=\"Open In Colab\"/></a>"
      ]
    },
    {
      "cell_type": "code",
      "execution_count": null,
      "metadata": {
        "id": "3Ax3nybx14Dw"
      },
      "outputs": [],
      "source": [
        "#Set-up code\n",
        "!pip install pandas\n",
        "!pip install scipy\n",
        "!pip install sklearn\n",
        "!pip install openpyxl\n",
        "!pip install numpy\n",
        "!pip install scikit-surprise\n"
      ]
    },
    {
      "cell_type": "code",
      "source": [
        "#import dependencies\n",
        "from surprise import Dataset, Reader, KNNBasic\n",
        "from surprise.model_selection import cross_validate\n",
        "from surprise import KNNBasic\n",
        "import os\n",
        "import csv\n",
        "import pandas as pd\n",
        "from collections import defaultdict\n",
        "from surprise.model_selection import KFold\n",
        "import matplotlib.pyplot as plt\n",
        "from sklearn import preprocessing"
      ],
      "metadata": {
        "id": "T7iD6u_72M0Q"
      },
      "execution_count": null,
      "outputs": []
    },
    {
      "cell_type": "code",
      "source": [
        "def precision_recall_at_k(predictions, k=10, threshold=3.5):\n",
        "    \"\"\"Return precision and recall at k metrics for each user\"\"\"\n",
        "\n",
        "    # First map the predictions to each user.\n",
        "    user_est_true = defaultdict(list)\n",
        "    for uid, _, true_r, est, _ in predictions:\n",
        "        user_est_true[uid].append((est, true_r))\n",
        "\n",
        "    precisions = dict()\n",
        "    recalls = dict()\n",
        "    for uid, user_ratings in user_est_true.items():\n",
        "\n",
        "        # Sort user ratings by estimated value\n",
        "        user_ratings.sort(key=lambda x: x[0], reverse=True)\n",
        "\n",
        "        # Number of relevant items\n",
        "        n_rel = sum((true_r >= threshold) for (_, true_r) in user_ratings)\n",
        "\n",
        "        # Number of recommended items in top k\n",
        "        n_rec_k = sum((est >= threshold) for (est, _) in user_ratings[:k])\n",
        "\n",
        "        # Number of relevant and recommended items in top k\n",
        "        n_rel_and_rec_k = sum(\n",
        "            ((true_r >= threshold) and (est >= threshold))\n",
        "            for (est, true_r) in user_ratings[:k]\n",
        "        )\n",
        "\n",
        "        # Precision@K: Proportion of recommended items that are relevant\n",
        "        # When n_rec_k is 0, Precision is undefined. We here set it to 0.\n",
        "\n",
        "        precisions[uid] = n_rel_and_rec_k / n_rec_k if n_rec_k != 0 else 0\n",
        "\n",
        "        # Recall@K: Proportion of relevant items that are recommended\n",
        "        # When n_rel is 0, Recall is undefined. We here set it to 0.\n",
        "\n",
        "        recalls[uid] = n_rel_and_rec_k / n_rel if n_rel != 0 else 0\n",
        "\n",
        "    return precisions, recalls"
      ],
      "metadata": {
        "id": "9G7o5R9hMNIw"
      },
      "execution_count": null,
      "outputs": []
    },
    {
      "cell_type": "code",
      "source": [
        "def trainMLDataset():\n",
        "  # First train the algorithm on the movielens dataset.\n",
        "  data = Dataset.load_builtin(\"ml-100k\")\n",
        "  trainset = data.build_full_trainset() ##returns dataset as a trainset object with no folds\n",
        "\n",
        "  # set-up options for RS algorithm\n",
        "  sim_options = {\n",
        "      \"name\": \"cosine\",\n",
        "      \"user_based\": False,  # compute  similarities between items\n",
        "  }\n",
        "  #initialize RS algorithm to be IBCF\n",
        "  algo = KNNBasic(sim_options=sim_options)\n",
        "\n",
        "  #train IBCF on the trainset\n",
        "  #algo.fit(trainset)\n",
        "\n",
        "  # Than predict ratings for all pairs (u, i) that are NOT in the training set.\n",
        "  #testset = trainset.build_anti_testset()\n",
        "  #predictions = algo.test(testset)\n",
        "\n",
        "  # Run 5-fold cross-validation and print results\n",
        "  cross_validate(algo, data, measures=[\"RMSE\", \"MAE\"], cv=5, verbose=True)\n"
      ],
      "metadata": {
        "id": "x5CUg3WrH--3"
      },
      "execution_count": null,
      "outputs": []
    },
    {
      "cell_type": "code",
      "source": [
        "def trainCustomDataset(path, num_folds):\n",
        "  # path to custom dataset\n",
        "  file_path = os.path.expanduser(path)\n",
        "\n",
        "  #convert csv to dictionary\n",
        "  rating_dict = {'user_id':[], 'item_id':[], 'rating':[]}\n",
        "  with open(file_path, 'r') as dataset:\n",
        "      for line in csv.reader(dataset):\n",
        "          rating_dict['user_id'].append(line[0])\n",
        "          rating_dict['item_id'].append(line[2])\n",
        "          rating_dict['rating'].append(line[4])\n",
        "\n",
        "  #convert dictionary to dataframe\n",
        "  rating_df = pd.DataFrame.from_dict(rating_dict)\n",
        "\n",
        "  #group duplicate values into one rating\n",
        "  rating_df = rating_df.groupby(['user_id', 'item_id']).agg({'rating':'mean'}).reset_index()\n",
        "\n",
        "  #define surprise reader object\n",
        "  reader = Reader(rating_scale=(1,5))\n",
        "\n",
        "  #convert dataframe into surprise dataset object\n",
        "  data = Dataset.load_from_df(rating_df[['user_id', 'item_id', 'rating']], reader)\n",
        "\n",
        "  # We'll use the item-based collaborative filtering algorithm\n",
        "  sim_options = {\n",
        "      \"name\": \"cosine\",\n",
        "      \"user_based\": False,  # compute  similarities between items\n",
        "  }\n",
        "  #define IBCFRS\n",
        "  algo = KNNBasic(sim_options=sim_options)\n",
        "  \n",
        "\n",
        "  # Run 5-fold cross-validation and print results\n",
        "  print(cross_validate(algo, data, measures=[\"RMSE\", \"MAE\"], cv=num_folds, verbose=True))"
      ],
      "metadata": {
        "id": "At-xVSJSEhvr"
      },
      "execution_count": null,
      "outputs": []
    },
    {
      "cell_type": "code",
      "source": [
        "def preprocessCustomDataset(path):\n",
        "  file_path = os.path.expanduser(path)\n",
        "   #convert csv to dictionary\n",
        "  rating_dict = {'user_id':[], 'item_id':[], 'rating':[]}\n",
        "  with open(file_path, 'r') as dataset:\n",
        "      for line in csv.reader(dataset):\n",
        "          rating_dict['user_id'].append(line[0])\n",
        "          rating_dict['item_id'].append(line[2])\n",
        "          rating_dict['rating'].append(line[4])\n",
        "\n",
        "  #convert dictionary to dataframe\n",
        "  rating_df = pd.DataFrame.from_dict(rating_dict)\n",
        "\n",
        "  #group duplicate values into one rating\n",
        "  rating_df = rating_df.groupby(['user_id', 'item_id']).agg({'rating':'mean'}).reset_index()\n",
        "\n",
        "  \n",
        "  #le = preprocessing.LabelEncoder()\n",
        "  #test = le.fit(rating_df['user_id'])\n",
        "  #test = le.transform(list(le.classes_))\n",
        "  #print(test)\n",
        "\n",
        "  print(rating_df.head())\n",
        "\n",
        "preprocessCustomDataset(\"/content/dataset/amazon_appliance_100k.csv\")\n",
        "preprocessCustomDataset(\"/content/dataset/ml_100k.csv\")"
      ],
      "metadata": {
        "colab": {
          "base_uri": "https://localhost:8080/"
        },
        "id": "RiGZDgd5rknD",
        "outputId": "9644e9c1-b406-40fa-c7fa-4c171e61053c"
      },
      "execution_count": null,
      "outputs": [
        {
          "output_type": "stream",
          "name": "stdout",
          "text": [
            "                user_id     item_id  rating\n",
            "0  A00032921HLX2KJJVXRS  B0045LLC7K     5.0\n",
            "1  A00086729ZDSXGG2E481  B00E1IUTOY     1.0\n",
            "2  A00222906VX8GH7X6J6B  B001BOBZSK     5.0\n",
            "3  A0096681Y127OL1H8W3U  B0014CN8Y8     5.0\n",
            "4  A0122375SQ8Z42DUL03J  B001TH7H04     5.0\n",
            "  user_id item_id  rating\n",
            "0       1       1     5.0\n",
            "1       1      10     3.0\n",
            "2       1     100     5.0\n",
            "3       1     101     2.0\n",
            "4       1     102     2.0\n"
          ]
        }
      ]
    },
    {
      "cell_type": "code",
      "source": [
        "def precision_recall_ML_dataset():\n",
        "  data = Dataset.load_builtin(\"ml-100k\")\n",
        "  kf = KFold(n_splits=5)\n",
        "  # set-up options for RS algorithm\n",
        "  sim_options = {\n",
        "      \"name\": \"cosine\",\n",
        "      \"user_based\": False,  # compute  similarities between items\n",
        "  }\n",
        "  #initialize RS algorithm to be IBCF\n",
        "  algo = KNNBasic(sim_options=sim_options)\n",
        "\n",
        "  for trainset, testset in kf.split(data):\n",
        "      algo.fit(trainset)\n",
        "      predictions = algo.test(testset)\n",
        "      precisions, recalls = precision_recall_at_k(predictions, k=5, threshold=4)\n",
        "\n",
        "      # Precision and recall can then be averaged over all users\n",
        "      print(\"Precision score:\",sum(prec for prec in precisions.values()) / len(precisions))\n",
        "      print(\"Recall score:\",sum(rec for rec in recalls.values()) / len(recalls))\n"
      ],
      "metadata": {
        "id": "fSx4gTi_L6sa"
      },
      "execution_count": null,
      "outputs": []
    },
    {
      "cell_type": "code",
      "source": [
        "def precision_recall_custom_dataset(path, num_folds):\n",
        "  # path to 50K Amazon appliance dataset\n",
        "  #file_path = os.path.expanduser(\"/content/dataset/Appliances_subset_surprise.csv\")\n",
        "  file_path = os.path.expanduser(path)\n",
        "\n",
        "  #convert csv to dictionary\n",
        "  rating_dict = {'user_id':[], 'item_id':[], 'rating':[]}\n",
        "  with open(file_path, 'r') as dataset:\n",
        "      for line in csv.reader(dataset):\n",
        "          rating_dict['user_id'].append(line[0])\n",
        "          rating_dict['item_id'].append(line[2])\n",
        "          rating_dict['rating'].append(line[4])\n",
        "\n",
        "  #convert dictionary to dataframe\n",
        "  rating_df = pd.DataFrame.from_dict(rating_dict)\n",
        "\n",
        "  #group duplicate values into one rating\n",
        "  rating_df = rating_df.groupby(['user_id', 'item_id']).agg({'rating':'mean'}).reset_index()\n",
        "\n",
        "  #define surprise reader object\n",
        "  reader = Reader(rating_scale=(1,5))\n",
        "\n",
        "  #convert dataframe into surprise dataset object\n",
        "  data = Dataset.load_from_df(rating_df[['user_id', 'item_id', 'rating']], reader)\n",
        "\n",
        "  # We'll use the item-based collaborative filtering algorithm\n",
        "  sim_options = {\n",
        "      \"name\": \"cosine\",\n",
        "      \"user_based\": False,  # compute  similarities between items\n",
        "  }\n",
        "  #define IBCFRS\n",
        "  algo = KNNBasic(sim_options=sim_options)\n",
        "  kf = KFold(n_splits=num_folds)\n",
        "  for trainset, testset in kf.split(data):\n",
        "      algo.fit(trainset)\n",
        "      predictions = algo.test(testset)\n",
        "      precisions, recalls = precision_recall_at_k(predictions, k=num_folds, threshold=4)\n",
        "\n",
        "      # Precision and recall can then be averaged over all users\n",
        "      print(\"Precision score:\",sum(prec for prec in precisions.values()) / len(precisions))\n",
        "      print(\"Recall score:\",sum(rec for rec in recalls.values()) / len(recalls))\n"
      ],
      "metadata": {
        "id": "kcGx2DU3OROB"
      },
      "execution_count": null,
      "outputs": []
    },
    {
      "cell_type": "code",
      "source": [
        "trainCustomDataset(\"/content/dataset/ml_100k.csv\", 5)"
      ],
      "metadata": {
        "colab": {
          "base_uri": "https://localhost:8080/"
        },
        "id": "O_5fmR3bnKHy",
        "outputId": "db61e4ca-053d-4bc5-a9e2-8512483e5d7f"
      },
      "execution_count": null,
      "outputs": [
        {
          "output_type": "stream",
          "name": "stdout",
          "text": [
            "Computing the cosine similarity matrix...\n",
            "Done computing similarity matrix.\n",
            "Computing the cosine similarity matrix...\n",
            "Done computing similarity matrix.\n",
            "Computing the cosine similarity matrix...\n",
            "Done computing similarity matrix.\n",
            "Computing the cosine similarity matrix...\n",
            "Done computing similarity matrix.\n",
            "Computing the cosine similarity matrix...\n",
            "Done computing similarity matrix.\n",
            "Evaluating RMSE, MAE of algorithm KNNBasic on 5 split(s).\n",
            "\n",
            "                  Fold 1  Fold 2  Fold 3  Fold 4  Fold 5  Mean    Std     \n",
            "RMSE (testset)    1.0270  1.0280  1.0226  1.0320  1.0225  1.0264  0.0036  \n",
            "MAE (testset)     0.8124  0.8122  0.8078  0.8158  0.8113  0.8119  0.0026  \n",
            "Fit time          0.92    1.20    0.94    1.05    1.16    1.05    0.11    \n",
            "Test time         5.27    4.15    5.17    4.57    5.53    4.94    0.50    \n",
            "{'test_rmse': array([1.02702017, 1.0279798 , 1.02256041, 1.03203439, 1.02249292]), 'test_mae': array([0.81240652, 0.81219612, 0.80775548, 0.81581501, 0.81126849]), 'fit_time': (0.9194674491882324, 1.2032787799835205, 0.9406440258026123, 1.0489675998687744, 1.1610524654388428), 'test_time': (5.272492408752441, 4.15007758140564, 5.16587233543396, 4.568448066711426, 5.52734112739563)}\n"
          ]
        }
      ]
    },
    {
      "cell_type": "code",
      "source": [
        "trainCustomDataset(\"/content/dataset/ml_100k.csv\", 10)"
      ],
      "metadata": {
        "colab": {
          "base_uri": "https://localhost:8080/"
        },
        "id": "nlkTZyBb_BUI",
        "outputId": "17fbb2e6-e66c-420f-ccab-4e6e69360111"
      },
      "execution_count": null,
      "outputs": [
        {
          "output_type": "stream",
          "name": "stdout",
          "text": [
            "Computing the cosine similarity matrix...\n",
            "Done computing similarity matrix.\n",
            "Computing the cosine similarity matrix...\n",
            "Done computing similarity matrix.\n",
            "Computing the cosine similarity matrix...\n",
            "Done computing similarity matrix.\n",
            "Computing the cosine similarity matrix...\n",
            "Done computing similarity matrix.\n",
            "Computing the cosine similarity matrix...\n",
            "Done computing similarity matrix.\n",
            "Computing the cosine similarity matrix...\n",
            "Done computing similarity matrix.\n",
            "Computing the cosine similarity matrix...\n",
            "Done computing similarity matrix.\n",
            "Computing the cosine similarity matrix...\n",
            "Done computing similarity matrix.\n",
            "Computing the cosine similarity matrix...\n",
            "Done computing similarity matrix.\n",
            "Computing the cosine similarity matrix...\n",
            "Done computing similarity matrix.\n",
            "Evaluating RMSE, MAE of algorithm KNNBasic on 10 split(s).\n",
            "\n",
            "                  Fold 1  Fold 2  Fold 3  Fold 4  Fold 5  Fold 6  Fold 7  Fold 8  Fold 9  Fold 10 Mean    Std     \n",
            "RMSE (testset)    1.0144  1.0179  1.0185  1.0175  1.0257  1.0114  1.0206  1.0245  1.0299  1.0266  1.0207  0.0056  \n",
            "MAE (testset)     0.7992  0.8027  0.8024  0.8003  0.8115  0.7951  0.8077  0.8121  0.8090  0.8094  0.8049  0.0055  \n",
            "Fit time          1.12    1.34    1.79    1.34    2.68    1.51    2.48    1.39    0.97    2.13    1.68    0.55    \n",
            "Test time         3.60    3.62    2.36    3.06    7.50    3.18    3.44    2.43    4.23    3.63    3.71    1.37    \n",
            "{'test_rmse': array([1.01437445, 1.017932  , 1.01848292, 1.01748052, 1.02565953,\n",
            "       1.01143861, 1.02059711, 1.02451766, 1.02994286, 1.02661999]), 'test_mae': array([0.79924301, 0.80269215, 0.80242531, 0.80025356, 0.81149274,\n",
            "       0.79506903, 0.80774023, 0.8120636 , 0.80896824, 0.80943819]), 'fit_time': (1.1248157024383545, 1.3436172008514404, 1.7904603481292725, 1.3356375694274902, 2.676910638809204, 1.5109412670135498, 2.484300374984741, 1.3941004276275635, 0.9691460132598877, 2.1303164958953857), 'test_time': (3.5996766090393066, 3.624497652053833, 2.362687587738037, 3.0602807998657227, 7.502899646759033, 3.1813278198242188, 3.4390997886657715, 2.4336531162261963, 4.228118181228638, 3.6280927658081055)}\n"
          ]
        }
      ]
    },
    {
      "cell_type": "code",
      "source": [
        "trainCustomDataset(\"/content/dataset/amazon_appliance_100k.csv\",5)"
      ],
      "metadata": {
        "id": "R8PFhVsI7X5E",
        "colab": {
          "base_uri": "https://localhost:8080/"
        },
        "outputId": "2d7abe24-2f20-408a-e408-a0ea43f49b54"
      },
      "execution_count": null,
      "outputs": [
        {
          "output_type": "stream",
          "name": "stdout",
          "text": [
            "Computing the cosine similarity matrix...\n",
            "Done computing similarity matrix.\n",
            "Computing the cosine similarity matrix...\n",
            "Done computing similarity matrix.\n",
            "Computing the cosine similarity matrix...\n",
            "Done computing similarity matrix.\n",
            "Computing the cosine similarity matrix...\n",
            "Done computing similarity matrix.\n",
            "Computing the cosine similarity matrix...\n",
            "Done computing similarity matrix.\n",
            "Evaluating RMSE, MAE of algorithm KNNBasic on 5 split(s).\n",
            "\n",
            "                  Fold 1  Fold 2  Fold 3  Fold 4  Fold 5  Mean    Std     \n",
            "RMSE (testset)    8295803689138500937505844787937280.0000110036010752289918458834716721152.0000856653451815609882031237605995763738869760.00006755324362888809349586104614912.000056294369690741196989126110501748604928.0000171341950919579134520399185600960761167872.0000342655751141584753034387294637158760972288.0000\n",
            "MAE (testset)     58841406912037152655205325602816.0000856235868333774684685185581056.00006076320530282922764350562578004250198016.000047916127610231052812381323264.0000399301143366151829099534113040236544.00001215343978234369594421875364085817671680.00002430488280943828162630373126511574122496.0000\n",
            "Fit time          5.49    4.48    6.00    8.59    4.55    5.82    1.50    \n",
            "Test time         0.32    0.23    0.90    0.22    0.20    0.37    0.27    \n",
            "{'test_rmse': array([8.29580369e+33, 1.10036011e+32, 8.56653452e+41, 6.75532436e+30,\n",
            "       5.62943697e+37]), 'test_mae': array([5.88414069e+31, 8.56235868e+29, 6.07632053e+39, 4.79161276e+28,\n",
            "       3.99301143e+35]), 'fit_time': (5.487890005111694, 4.480262041091919, 5.9968953132629395, 8.58559775352478, 4.545291423797607), 'test_time': (0.32149291038513184, 0.23183274269104004, 0.9029874801635742, 0.2151176929473877, 0.20305943489074707)}\n"
          ]
        }
      ]
    },
    {
      "cell_type": "code",
      "source": [
        "trainCustomDataset(\"/content/dataset/amazon_appliance_100k.csv\", 10)"
      ],
      "metadata": {
        "colab": {
          "base_uri": "https://localhost:8080/"
        },
        "id": "DJZE4SgqNQtP",
        "outputId": "f46811cf-034b-498a-a31d-ba5799ec7842"
      },
      "execution_count": null,
      "outputs": [
        {
          "output_type": "stream",
          "name": "stdout",
          "text": [
            "Computing the cosine similarity matrix...\n",
            "Done computing similarity matrix.\n",
            "Computing the cosine similarity matrix...\n",
            "Done computing similarity matrix.\n",
            "Computing the cosine similarity matrix...\n",
            "Done computing similarity matrix.\n",
            "Computing the cosine similarity matrix...\n",
            "Done computing similarity matrix.\n",
            "Computing the cosine similarity matrix...\n",
            "Done computing similarity matrix.\n",
            "Computing the cosine similarity matrix...\n",
            "Done computing similarity matrix.\n",
            "Computing the cosine similarity matrix...\n",
            "Done computing similarity matrix.\n",
            "Computing the cosine similarity matrix...\n",
            "Done computing similarity matrix.\n",
            "Computing the cosine similarity matrix...\n",
            "Done computing similarity matrix.\n",
            "Computing the cosine similarity matrix...\n",
            "Done computing similarity matrix.\n",
            "Evaluating RMSE, MAE of algorithm KNNBasic on 10 split(s).\n",
            "\n",
            "                  Fold 1  Fold 2  Fold 3  Fold 4  Fold 5  Fold 6  Fold 7  Fold 8  Fold 9  Fold 10 Mean    Std     \n",
            "RMSE (testset)    1.6653  154793831028124979792832305823744.00001211490932427193458581684332770066635423744.000015922452220377902967042032533504.00001.8539  19216752679766432447201280.00001.8103  11732337104642265754865153710489600.000015922452220377902967042032533504.000017415182116051521639454605312.0000121149094434618685177846152821127753236480.0000363447279330858296486905620984446551326720.0000\n",
            "MAE (testset)     0.7352  1552681232058768297607777222656.000012153439662692683519583154465579462557696.0000159720425367436836843875729408.00000.7992  192766030615872029065216.00000.7875  117784566736489701679722806640640.0000159720425367436836843875729408.0000174694430253898949709529088.00001215343978234954714518568844606375460864.00003646031894819242884649619389714813419520.0000\n",
            "Fit time          6.01    4.82    7.68    3.96    4.18    3.97    4.31    3.75    4.68    3.81    4.72    1.18    \n",
            "Test time         0.15    0.14    0.14    0.16    0.13    0.24    0.13    0.15    0.17    0.14    0.15    0.03    \n",
            "{'test_rmse': array([1.66533552e+00, 1.54793831e+32, 1.21149093e+42, 1.59224522e+31,\n",
            "       1.85394447e+00, 1.92167527e+25, 1.81028123e+00, 1.17323371e+34,\n",
            "       1.59224522e+31, 1.74151821e+28]), 'test_mae': array([7.35234933e-01, 1.55268123e+30, 1.21534397e+40, 1.59720425e+29,\n",
            "       7.99154760e-01, 1.92766031e+23, 7.87482391e-01, 1.17784567e+32,\n",
            "       1.59720425e+29, 1.74694430e+26]), 'fit_time': (6.0083513259887695, 4.821935415267944, 7.684662342071533, 3.9644243717193604, 4.179517030715942, 3.9714174270629883, 4.313193082809448, 3.7482476234436035, 4.676514387130737, 3.8108997344970703), 'test_time': (0.145094633102417, 0.1417989730834961, 0.13570284843444824, 0.1644287109375, 0.12706279754638672, 0.23731279373168945, 0.13143134117126465, 0.14848089218139648, 0.17293596267700195, 0.1426079273223877)}\n"
          ]
        }
      ]
    },
    {
      "cell_type": "code",
      "source": [
        "trainCustomDataset(\"/content/dataset/Appliances_subset_surprise.csv\", 5)"
      ],
      "metadata": {
        "colab": {
          "base_uri": "https://localhost:8080/"
        },
        "id": "IPp3S3DkI4ae",
        "outputId": "730482c8-99e5-45f8-e936-69dddac0c722"
      },
      "execution_count": null,
      "outputs": [
        {
          "output_type": "stream",
          "name": "stdout",
          "text": [
            "Computing the cosine similarity matrix...\n",
            "Done computing similarity matrix.\n",
            "Computing the cosine similarity matrix...\n",
            "Done computing similarity matrix.\n",
            "Computing the cosine similarity matrix...\n",
            "Done computing similarity matrix.\n",
            "Computing the cosine similarity matrix...\n",
            "Done computing similarity matrix.\n",
            "Computing the cosine similarity matrix...\n",
            "Done computing similarity matrix.\n",
            "Evaluating RMSE, MAE of algorithm KNNBasic on 5 split(s).\n",
            "\n",
            "                  Fold 1  Fold 2  Fold 3  Fold 4  Fold 5  Mean    Std     \n",
            "RMSE (testset)    1.5681  1.6800  1.5672  21.5365 13.4507 7.9605  8.1931  \n",
            "MAE (testset)     0.9603  0.9640  0.9543  1.1965  1.0703  1.0291  0.0941  \n",
            "Fit time          0.02    0.04    0.03    0.03    0.03    0.03    0.01    \n",
            "Test time         0.11    0.09    0.09    0.11    0.24    0.13    0.05    \n",
            "{'test_rmse': array([ 1.56810258,  1.67996581,  1.56717633, 21.53654016, 13.4506578 ]), 'test_mae': array([0.96025131, 0.96401855, 0.9542648 , 1.19646364, 1.07026445]), 'fit_time': (0.020416259765625, 0.03685307502746582, 0.034448862075805664, 0.034688472747802734, 0.03366661071777344), 'test_time': (0.10993504524230957, 0.09221386909484863, 0.09427428245544434, 0.10728645324707031, 0.23508596420288086)}\n"
          ]
        }
      ]
    },
    {
      "cell_type": "code",
      "source": [
        "trainCustomDataset(\"/content/dataset/Appliances_subset_surprise.csv\", 10)"
      ],
      "metadata": {
        "colab": {
          "base_uri": "https://localhost:8080/"
        },
        "id": "dhWOy6_qI9Xt",
        "outputId": "267987e9-e5f6-4daf-f0a3-ed5673699fc7"
      },
      "execution_count": null,
      "outputs": [
        {
          "output_type": "stream",
          "name": "stdout",
          "text": [
            "Computing the cosine similarity matrix...\n",
            "Done computing similarity matrix.\n",
            "Computing the cosine similarity matrix...\n",
            "Done computing similarity matrix.\n",
            "Computing the cosine similarity matrix...\n",
            "Done computing similarity matrix.\n",
            "Computing the cosine similarity matrix...\n",
            "Done computing similarity matrix.\n",
            "Computing the cosine similarity matrix...\n",
            "Done computing similarity matrix.\n",
            "Computing the cosine similarity matrix...\n",
            "Done computing similarity matrix.\n",
            "Computing the cosine similarity matrix...\n",
            "Done computing similarity matrix.\n",
            "Computing the cosine similarity matrix...\n",
            "Done computing similarity matrix.\n",
            "Computing the cosine similarity matrix...\n",
            "Done computing similarity matrix.\n",
            "Computing the cosine similarity matrix...\n",
            "Done computing similarity matrix.\n",
            "Evaluating RMSE, MAE of algorithm KNNBasic on 10 split(s).\n",
            "\n",
            "                  Fold 1  Fold 2  Fold 3  Fold 4  Fold 5  Fold 6  Fold 7  Fold 8  Fold 9  Fold 10 Mean    Std     \n",
            "RMSE (testset)    1.6311  1.6262  1.5613  1.6134  1.5604  1.6804  1.4339  18.9618 30.4172 1.6322  6.2118  9.5876  \n",
            "MAE (testset)     0.9700  0.9683  0.9417  0.9639  0.9536  0.9709  0.9391  1.2036  1.4124  0.9509  1.0274  0.1482  \n",
            "Fit time          0.02    0.05    0.04    0.05    0.05    0.05    0.04    0.04    0.06    0.06    0.05    0.01    \n",
            "Test time         0.08    0.07    0.14    0.09    0.08    0.08    0.07    0.07    0.09    0.09    0.08    0.02    \n",
            "{'test_rmse': array([ 1.6311124 ,  1.626247  ,  1.56129493,  1.61340049,  1.56042697,\n",
            "        1.68041554,  1.43392076, 18.96175481, 30.41716591,  1.63215971]), 'test_mae': array([0.9700025 , 0.96830414, 0.94173933, 0.96387905, 0.9536056 ,\n",
            "       0.97094895, 0.93909151, 1.2035652 , 1.41244424, 0.95090084]), 'fit_time': (0.022432565689086914, 0.04953932762145996, 0.03825569152832031, 0.0531618595123291, 0.05454587936401367, 0.05376434326171875, 0.03837704658508301, 0.0396573543548584, 0.058069705963134766, 0.05720782279968262), 'test_time': (0.07709407806396484, 0.06804704666137695, 0.14098405838012695, 0.08528780937194824, 0.07649660110473633, 0.08031320571899414, 0.06551313400268555, 0.0713043212890625, 0.09109926223754883, 0.08606815338134766)}\n"
          ]
        }
      ]
    },
    {
      "cell_type": "code",
      "source": [
        "import platform; print(platform.platform())\n",
        "import sys; print(\"Python\", sys.version)\n",
        "import surprise; print(\"surprise\", surprise.__version__)"
      ],
      "metadata": {
        "colab": {
          "base_uri": "https://localhost:8080/"
        },
        "id": "MSb2N0VLW6k8",
        "outputId": "0d741c03-7dfe-4d36-946c-66166805b22f"
      },
      "execution_count": null,
      "outputs": [
        {
          "output_type": "stream",
          "name": "stdout",
          "text": [
            "Linux-5.10.147+-x86_64-with-glibc2.29\n",
            "Python 3.8.10 (default, Nov 14 2022, 12:59:47) \n",
            "[GCC 9.4.0]\n",
            "surprise 1.1.3\n"
          ]
        }
      ]
    }
  ]
}